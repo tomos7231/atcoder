{
 "cells": [
  {
   "cell_type": "code",
   "execution_count": 4,
   "metadata": {},
   "outputs": [
    {
     "name": "stdout",
     "output_type": "stream",
     "text": [
      "order: 0 i: 0 h: 0 w: 0 value: 0\n",
      "order: 0 i: 1 h: 0 w: 1 value: 0\n",
      "order: 1 i: 0 h: 0 w: 0 value: 1\n",
      "order: 1 i: 1 h: 1 w: 0 value: 0\n",
      "order: 1 i: 2 h: 1 w: 1 value: 0\n",
      "order: 2 i: 0 h: 0 w: 0 value: 0\n",
      "order: 2 i: 1 h: 0 w: 1 value: 1\n",
      "order: 2 i: 2 h: 1 w: 1 value: 0\n",
      "order: 3 i: 0 h: 0 w: 0 value: 1\n",
      "order: 3 i: 1 h: 1 w: 0 value: 1\n",
      "order: 3 i: 2 h: 2 w: 0 value: 0\n",
      "order: 3 i: 3 h: 2 w: 1 value: 0\n",
      "{1, 2, 3, 4, 5}\n",
      "order: 4 i: 0 h: 0 w: 0 value: 0\n",
      "order: 4 i: 1 h: 0 w: 1 value: 0\n",
      "order: 5 i: 0 h: 0 w: 0 value: 1\n",
      "order: 5 i: 1 h: 1 w: 0 value: 0\n",
      "order: 5 i: 2 h: 1 w: 1 value: 1\n",
      "order: 5 i: 3 h: 2 w: 1 value: 0\n",
      "{1, 2, 3, 4, 5}\n",
      "order: 6 i: 0 h: 0 w: 0 value: 0\n",
      "order: 6 i: 1 h: 0 w: 1 value: 1\n",
      "order: 6 i: 2 h: 1 w: 1 value: 1\n",
      "order: 6 i: 3 h: 2 w: 1 value: 0\n",
      "{1, 2, 3, 4, 5}\n",
      "order: 7 i: 0 h: 0 w: 0 value: 1\n",
      "order: 7 i: 1 h: 1 w: 0 value: 1\n",
      "order: 7 i: 2 h: 2 w: 0 value: 1\n",
      "order: 8 i: 0 h: 0 w: 0 value: 0\n",
      "order: 8 i: 1 h: 0 w: 1 value: 0\n",
      "order: 9 i: 0 h: 0 w: 0 value: 1\n",
      "order: 9 i: 1 h: 1 w: 0 value: 0\n",
      "order: 9 i: 2 h: 1 w: 1 value: 0\n",
      "order: 10 i: 0 h: 0 w: 0 value: 0\n",
      "order: 10 i: 1 h: 0 w: 1 value: 1\n",
      "order: 10 i: 2 h: 1 w: 1 value: 0\n",
      "order: 11 i: 0 h: 0 w: 0 value: 1\n",
      "order: 11 i: 1 h: 1 w: 0 value: 1\n",
      "order: 11 i: 2 h: 2 w: 0 value: 0\n",
      "order: 11 i: 3 h: 2 w: 1 value: 1\n",
      "order: 12 i: 0 h: 0 w: 0 value: 0\n",
      "order: 12 i: 1 h: 0 w: 1 value: 0\n",
      "order: 13 i: 0 h: 0 w: 0 value: 1\n",
      "order: 13 i: 1 h: 1 w: 0 value: 0\n",
      "order: 13 i: 2 h: 1 w: 1 value: 1\n",
      "order: 13 i: 3 h: 2 w: 1 value: 1\n",
      "order: 14 i: 0 h: 0 w: 0 value: 0\n",
      "order: 14 i: 1 h: 0 w: 1 value: 1\n",
      "order: 14 i: 2 h: 1 w: 1 value: 1\n",
      "order: 14 i: 3 h: 2 w: 1 value: 1\n",
      "order: 15 i: 0 h: 0 w: 0 value: 1\n",
      "order: 15 i: 1 h: 1 w: 0 value: 1\n",
      "order: 15 i: 2 h: 2 w: 0 value: 1\n",
      "3\n"
     ]
    }
   ],
   "source": [
    "!python3 c.py < input.txt"
   ]
  },
  {
   "cell_type": "code",
   "execution_count": null,
   "metadata": {},
   "outputs": [],
   "source": []
  }
 ],
 "metadata": {
  "kernelspec": {
   "display_name": "general-WKeoaTo_-py3.8",
   "language": "python",
   "name": "python3"
  },
  "language_info": {
   "codemirror_mode": {
    "name": "ipython",
    "version": 3
   },
   "file_extension": ".py",
   "mimetype": "text/x-python",
   "name": "python",
   "nbconvert_exporter": "python",
   "pygments_lexer": "ipython3",
   "version": "3.8.10"
  },
  "orig_nbformat": 4
 },
 "nbformat": 4,
 "nbformat_minor": 2
}
